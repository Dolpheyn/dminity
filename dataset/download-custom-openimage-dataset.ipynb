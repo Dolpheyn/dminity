{
  "nbformat": 4,
  "nbformat_minor": 0,
  "metadata": {
    "colab": {
      "name": "download-custom-openimage-dataset",
      "provenance": [],
      "collapsed_sections": []
    },
    "kernelspec": {
      "display_name": "Python 3",
      "name": "python3"
    },
    "language_info": {
      "name": "python"
    }
  },
  "cells": [
    {
      "cell_type": "markdown",
      "metadata": {
        "id": "tzyrJovZPa3I"
      },
      "source": [
        "# Download OpenImage Dataset\n",
        "\n",
        "This notebook will allow you to download object detection dataset from OpenImageV6 and zip it into a file so you can download it into your machine. It's only useful if you cannot do it locally on your machine, or you don't want to go through the entire process everytime you launch a new colab runtime"
      ]
    },
    {
      "cell_type": "code",
      "metadata": {
        "colab": {
          "base_uri": "https://localhost:8080/"
        },
        "id": "SIWK3BBbEnkX",
        "outputId": "c597c325-5aeb-4ceb-cad0-bbe370022c48"
      },
      "source": [
        "!python --version"
      ],
      "execution_count": null,
      "outputs": [
        {
          "output_type": "stream",
          "name": "stdout",
          "text": [
            "Python 3.7.11\n"
          ]
        }
      ]
    },
    {
      "cell_type": "markdown",
      "metadata": {
        "id": "wbYtiwEqGJ1r"
      },
      "source": [
        "# Clone OpenImage V6 Toolkit\n",
        "\n",
        "This repo will allow us to download the images based on task, data category(train, test, eval), and classes."
      ]
    },
    {
      "cell_type": "code",
      "metadata": {
        "id": "fJChBv1rGL8X"
      },
      "source": [
        "!git clone https://github.com/NanoCode012/OIDv6_ToolKit_Download_Open_Images_Support_Yolo_Format.git OIDV6_Toolkit"
      ],
      "execution_count": null,
      "outputs": []
    },
    {
      "cell_type": "code",
      "metadata": {
        "id": "S3G-ALNKHM4w"
      },
      "source": [
        "%cd /content/OIDV6_Toolkit/\n",
        "!pip install -r requirements.txt"
      ],
      "execution_count": null,
      "outputs": []
    },
    {
      "cell_type": "markdown",
      "metadata": {
        "id": "WnmBiCAzIang"
      },
      "source": [
        "# Download The Dataset"
      ]
    },
    {
      "cell_type": "code",
      "metadata": {
        "id": "27B-kZ5BImvJ"
      },
      "source": [
        "%cd /content/OIDV6_Toolkit/\n",
        "!mkdir -p OID/Dataset\n",
        "!ls OID"
      ],
      "execution_count": null,
      "outputs": []
    },
    {
      "cell_type": "code",
      "metadata": {
        "id": "tIE5_pB4IeG6"
      },
      "source": [
        "%cd /content/OIDV6_Toolkit/\n",
        "!python main.py downloader -y --classes \"Toilet Swimming_pool Bed Billiard_table Sink Fountain Oven Ceiling_fan Television\" --type_csv all --multiclasses 1 --limit 200"
      ],
      "execution_count": null,
      "outputs": []
    },
    {
      "cell_type": "markdown",
      "metadata": {
        "id": "AERB1MTkPP2B"
      },
      "source": [
        "Zip the entire `/content/OIDV6_Toolkit/OID` folder so we can download the zipped file."
      ]
    },
    {
      "cell_type": "code",
      "metadata": {
        "id": "GljpZGOPMaEc"
      },
      "source": [
        "!pwd\n",
        "!zip -r /content/OIDV6_Toolkit/OID.zip /content/OIDV6_Toolkit/OID"
      ],
      "execution_count": null,
      "outputs": []
    },
    {
      "cell_type": "markdown",
      "metadata": {
        "id": "rmd6yP_3u6xF"
      },
      "source": [
        "Check the size of zipped dataset."
      ]
    },
    {
      "cell_type": "code",
      "metadata": {
        "colab": {
          "base_uri": "https://localhost:8080/"
        },
        "id": "BZMdb_zyAdAD",
        "outputId": "cf1dbfff-e947-4ddd-b3ff-a10da31d2ab2"
      },
      "source": [
        "!du -h /content/OIDV6_Toolkit/OID.zip"
      ],
      "execution_count": null,
      "outputs": [
        {
          "output_type": "stream",
          "name": "stdout",
          "text": [
            "1.1G\t/content/OIDV6_Toolkit/OID.zip\n"
          ]
        }
      ]
    },
    {
      "cell_type": "markdown",
      "metadata": {
        "id": "_GdPZ6qmzX1H"
      },
      "source": [
        "Either download from the `Files` tree <-- or use the cell below"
      ]
    },
    {
      "cell_type": "code",
      "metadata": {
        "colab": {
          "base_uri": "https://localhost:8080/",
          "height": 33
        },
        "id": "xhPU0lxrtzNh",
        "outputId": "10783f5f-f089-4102-e470-9006521caef9"
      },
      "source": [
        "from google.colab import files\n",
        "files.download(\"/content/OIDV6_Toolkit/OID.zip\")"
      ],
      "execution_count": null,
      "outputs": [
        {
          "data": {
            "application/javascript": [
              "\n",
              "    async function download(id, filename, size) {\n",
              "      if (!google.colab.kernel.accessAllowed) {\n",
              "        return;\n",
              "      }\n",
              "      const div = document.createElement('div');\n",
              "      const label = document.createElement('label');\n",
              "      label.textContent = `Downloading \"${filename}\": `;\n",
              "      div.appendChild(label);\n",
              "      const progress = document.createElement('progress');\n",
              "      progress.max = size;\n",
              "      div.appendChild(progress);\n",
              "      document.body.appendChild(div);\n",
              "\n",
              "      const buffers = [];\n",
              "      let downloaded = 0;\n",
              "\n",
              "      const channel = await google.colab.kernel.comms.open(id);\n",
              "      // Send a message to notify the kernel that we're ready.\n",
              "      channel.send({})\n",
              "\n",
              "      for await (const message of channel.messages) {\n",
              "        // Send a message to notify the kernel that we're ready.\n",
              "        channel.send({})\n",
              "        if (message.buffers) {\n",
              "          for (const buffer of message.buffers) {\n",
              "            buffers.push(buffer);\n",
              "            downloaded += buffer.byteLength;\n",
              "            progress.value = downloaded;\n",
              "          }\n",
              "        }\n",
              "      }\n",
              "      const blob = new Blob(buffers, {type: 'application/binary'});\n",
              "      const a = document.createElement('a');\n",
              "      a.href = window.URL.createObjectURL(blob);\n",
              "      a.download = filename;\n",
              "      div.appendChild(a);\n",
              "      a.click();\n",
              "      div.remove();\n",
              "    }\n",
              "  "
            ],
            "text/plain": [
              "<IPython.core.display.Javascript object>"
            ]
          },
          "metadata": {},
          "output_type": "display_data"
        },
        {
          "data": {
            "application/javascript": [
              "download(\"download_3cc67e78-3b2f-4ab9-984e-3a095a68e050\", \"OID.zip\", 422914531)"
            ],
            "text/plain": [
              "<IPython.core.display.Javascript object>"
            ]
          },
          "metadata": {},
          "output_type": "display_data"
        }
      ]
    },
    {
      "cell_type": "markdown",
      "metadata": {
        "id": "qOc02Q85vALg"
      },
      "source": [
        "Or mount google drive and copy to it."
      ]
    },
    {
      "cell_type": "code",
      "metadata": {
        "colab": {
          "base_uri": "https://localhost:8080/"
        },
        "id": "Zikuo1ro2JRp",
        "outputId": "48de5dd5-383e-433e-9719-6a28f3fedfaf"
      },
      "source": [
        "from google.colab import drive\n",
        "drive.mount('/content/gdrive')"
      ],
      "execution_count": null,
      "outputs": [
        {
          "output_type": "stream",
          "name": "stdout",
          "text": [
            "Mounted at /content/gdrive\n"
          ]
        }
      ]
    },
    {
      "cell_type": "code",
      "metadata": {
        "id": "S6anALOY2NAt"
      },
      "source": [
        "!cp '/content/OIDV6_Toolkit/OID.zip' '/content/gdrive/MyDrive/'"
      ],
      "execution_count": null,
      "outputs": []
    }
  ]
}